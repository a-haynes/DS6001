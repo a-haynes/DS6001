{
 "cells": [
  {
   "cell_type": "markdown",
   "id": "770ed530-d07a-4198-b7ab-16d8e86e5158",
   "metadata": {},
   "source": [
    "# Live Assignment 5\n",
    "## DS 6001: Practice and Application of Data Science\n",
    "### Drew Haynes (rbc6wr)"
   ]
  },
  {
   "cell_type": "markdown",
   "id": "aacb645b-7468-49cf-b72b-3634df43e019",
   "metadata": {},
   "source": [
    "Data science is a new field, especially compared to long-established academic disciplines like physics, mathematics, and medicine. So it is a lot harder to know the landscape of important journals, programs, and conferences. At the UVA School of Data Science, we are hoping to send our faculty, staff, and students to more conferences to learn cutting edge developments in the field, build a wider network, recruit new students and faculty, and get the word out about our school. One issue is that the phrase \"data science\" is still very trendy and that makes it difficult to know worthwhile conferences from ones that are sort of scammy. We are working to build out a comprehensive database on data science conferences. But before we take on the challenge of collecting all of the data ourselves, we need to see what databases already exist.\n",
    "\n",
    "<img src=\"https://comicsandcartridges.com/wp-content/uploads/2019/04/comic-book-conventions.jpg\"\n",
    "     alt=\"Figure 12.1\"\n",
    "     width=\"600\" />\n",
    "     \n",
    "Does San Diego Comic Con count as a Data Science conference? Source: https://comicsandcartridges.com/7-geeky-conventions-every-comic-book-fan-should-attend/\n",
    "\n",
    "One option is the conference database on the website of the World Academy of Science, Engineering and Technology: https://waset.org/machine-learning-conferences I would like to collect all of the conferences that are listed here, and organize them in pandas dataframe. Unfortunately, this website does not appear to have any public API, so we have to resort to webscraping.\n",
    "\n",
    "**Goal 1**: scrape important following features from one conference's page (for example: https://waset.org/aeronautics-and-astronautics-conference-in-february-2022-in-paris\n",
    "\n",
    "**Goal 2**: Collect all URLs for all conferences listed on World Academy of Science, Engineering and Technology webpage from February 2022, and build a Spider that scrapes the data from Goal 1 for all these conferences"
   ]
  },
  {
   "cell_type": "code",
   "execution_count": 1,
   "id": "f42115d5-24ab-4967-8154-f74337590682",
   "metadata": {},
   "outputs": [],
   "source": [
    "import numpy as np\n",
    "import pandas as pd\n",
    "import requests\n",
    "from bs4 import BeautifulSoup as soup"
   ]
  },
  {
   "cell_type": "code",
   "execution_count": 2,
   "id": "711bf6e7-768d-4f56-bd73-21ce99722bb4",
   "metadata": {},
   "outputs": [
    {
     "name": "stderr",
     "output_type": "stream",
     "text": [
      "C:\\ProgramData\\Anaconda3\\lib\\site-packages\\bs4\\__init__.py:431: MarkupResemblesLocatorWarning: \"http://www.google.com\" looks like a URL. Beautiful Soup is not an HTTP client. You should probably use an HTTP client like requests to get the document behind the URL, and feed that document to Beautiful Soup.\n",
      "  warnings.warn(\n"
     ]
    },
    {
     "data": {
      "text/plain": [
       "<html><body><p>http://www.google.com</p></body></html>"
      ]
     },
     "execution_count": 2,
     "metadata": {},
     "output_type": "execute_result"
    }
   ],
   "source": [
    "soup(\"http://www.google.com\")"
   ]
  },
  {
   "cell_type": "markdown",
   "id": "7715194f-1e8a-4f26-ac27-248448670e7d",
   "metadata": {},
   "source": [
    "## Robots.txt\n",
    "\n",
    "https://waset.org/robots.txt\n",
    "\n",
    "User-agent: Googlebot\n",
    "Allow: /\n",
    "\n",
    "User-agent: *\n",
    "Disallow:\n",
    "\n",
    "User-agent: ia_archiver\n",
    "Disallow: /\n",
    "\n",
    "Sitemap: https://waset.org/sitemaps/index.xml\n",
    "Sitemap: https://publications.waset.org/sitemaps/index_publications.xml\n",
    "\n"
   ]
  },
  {
   "cell_type": "code",
   "execution_count": 2,
   "id": "ba630c55-048a-42a8-923a-869c53386945",
   "metadata": {},
   "outputs": [
    {
     "data": {
      "text/plain": [
       "<Response [200]>"
      ]
     },
     "execution_count": 2,
     "metadata": {},
     "output_type": "execute_result"
    }
   ],
   "source": [
    "url = 'https://waset.org/archaeology-conference-in-march-2022-in-paris'\n",
    "my_headers = {'User-agent': 'Mozilla/5.0 (Windows NT 10.0; Win64; x64) AppleWebKit/537.36 (KHTML, like Gecko) Chrome/98.0.4758.102 Safari/537.36 rbc6wr@virginia.edu'}\n",
    "r = requests.get(url, headers = my_headers)\n",
    "r"
   ]
  },
  {
   "cell_type": "code",
   "execution_count": 3,
   "id": "c6c0bd32-2921-42d0-b19d-34ce94ecfd27",
   "metadata": {},
   "outputs": [],
   "source": [
    "conf = soup(r.text, 'html.parser')"
   ]
  },
  {
   "cell_type": "code",
   "execution_count": 4,
   "id": "da34ebda-9ef7-4b93-8df9-b106dfcac1f1",
   "metadata": {},
   "outputs": [
    {
     "data": {
      "text/plain": [
       "'International Conference on Archaeology ICA in March 2022 in Paris'"
      ]
     },
     "execution_count": 4,
     "metadata": {},
     "output_type": "execute_result"
    }
   ],
   "source": [
    "conf_title = conf.find_all('title')[0].string # or .text\n",
    "conf_title"
   ]
  },
  {
   "cell_type": "code",
   "execution_count": 5,
   "id": "fd31fd68-19f1-4952-b603-06bbf36bb9a5",
   "metadata": {},
   "outputs": [
    {
     "ename": "AttributeError",
     "evalue": "ResultSet object has no attribute 'string'. You're probably treating a list of elements like a single element. Did you call find_all() when you meant to call find()?",
     "output_type": "error",
     "traceback": [
      "\u001b[1;31m---------------------------------------------------------------------------\u001b[0m",
      "\u001b[1;31mAttributeError\u001b[0m                            Traceback (most recent call last)",
      "\u001b[1;32m~\\AppData\\Local\\Temp/ipykernel_27236/1250590469.py\u001b[0m in \u001b[0;36m<module>\u001b[1;34m\u001b[0m\n\u001b[1;32m----> 1\u001b[1;33m \u001b[0mconf\u001b[0m\u001b[1;33m.\u001b[0m\u001b[0mfind_all\u001b[0m\u001b[1;33m(\u001b[0m\u001b[1;34m\"td\"\u001b[0m\u001b[1;33m,\u001b[0m \u001b[1;34m\"textright\"\u001b[0m\u001b[1;33m)\u001b[0m\u001b[1;33m.\u001b[0m\u001b[0mstring\u001b[0m\u001b[1;33m\u001b[0m\u001b[1;33m\u001b[0m\u001b[0m\n\u001b[0m",
      "\u001b[1;32mC:\\ProgramData\\Anaconda3\\lib\\site-packages\\bs4\\element.py\u001b[0m in \u001b[0;36m__getattr__\u001b[1;34m(self, key)\u001b[0m\n\u001b[0;32m   2251\u001b[0m     \u001b[1;32mdef\u001b[0m \u001b[0m__getattr__\u001b[0m\u001b[1;33m(\u001b[0m\u001b[0mself\u001b[0m\u001b[1;33m,\u001b[0m \u001b[0mkey\u001b[0m\u001b[1;33m)\u001b[0m\u001b[1;33m:\u001b[0m\u001b[1;33m\u001b[0m\u001b[1;33m\u001b[0m\u001b[0m\n\u001b[0;32m   2252\u001b[0m         \u001b[1;34m\"\"\"Raise a helpful exception to explain a common code fix.\"\"\"\u001b[0m\u001b[1;33m\u001b[0m\u001b[1;33m\u001b[0m\u001b[0m\n\u001b[1;32m-> 2253\u001b[1;33m         raise AttributeError(\n\u001b[0m\u001b[0;32m   2254\u001b[0m             \u001b[1;34m\"ResultSet object has no attribute '%s'. You're probably treating a list of elements like a single element. Did you call find_all() when you meant to call find()?\"\u001b[0m \u001b[1;33m%\u001b[0m \u001b[0mkey\u001b[0m\u001b[1;33m\u001b[0m\u001b[1;33m\u001b[0m\u001b[0m\n\u001b[0;32m   2255\u001b[0m         )\n",
      "\u001b[1;31mAttributeError\u001b[0m: ResultSet object has no attribute 'string'. You're probably treating a list of elements like a single element. Did you call find_all() when you meant to call find()?"
     ]
    }
   ],
   "source": [
    "conf.find_all(\"td\", \"textright\")[3].string"
   ]
  },
  {
   "cell_type": "code",
   "execution_count": 7,
   "id": "ffa33b2e-fc41-4641-9f0e-8cf0690b11ba",
   "metadata": {},
   "outputs": [],
   "source": [
    "conf_date = conf.find_all(\"h2\", \"text-center\")[0].string.split(' in ')[0]\n",
    "conf_loc = conf.find_all(\"h2\", \"text-center\")[0].string.split(' in ')[1]"
   ]
  },
  {
   "cell_type": "code",
   "execution_count": 8,
   "id": "46d95b84-8976-4f91-ba18-c597f0babeff",
   "metadata": {},
   "outputs": [
    {
     "data": {
      "text/plain": [
       "'March 28-29, 2022'"
      ]
     },
     "execution_count": 8,
     "metadata": {},
     "output_type": "execute_result"
    }
   ],
   "source": [
    "conf.find('td',text='Conference Dates').findNext().findNext().string"
   ]
  },
  {
   "cell_type": "code",
   "execution_count": 9,
   "id": "f12e0746-2842-4af8-91bf-86d77cd5936b",
   "metadata": {},
   "outputs": [],
   "source": [
    "conf_topics = conf.find_all(\"div\", \"tab-pane fade\", id='nav-topics')[0].div.text"
   ]
  },
  {
   "cell_type": "code",
   "execution_count": 10,
   "id": "9d448ae2-981f-472a-976c-21871a87ab75",
   "metadata": {},
   "outputs": [
    {
     "data": {
      "text/html": [
       "<div>\n",
       "<style scoped>\n",
       "    .dataframe tbody tr th:only-of-type {\n",
       "        vertical-align: middle;\n",
       "    }\n",
       "\n",
       "    .dataframe tbody tr th {\n",
       "        vertical-align: top;\n",
       "    }\n",
       "\n",
       "    .dataframe thead th {\n",
       "        text-align: right;\n",
       "    }\n",
       "</style>\n",
       "<table border=\"1\" class=\"dataframe\">\n",
       "  <thead>\n",
       "    <tr style=\"text-align: right;\">\n",
       "      <th></th>\n",
       "      <th>Conference title</th>\n",
       "      <th>Conference date</th>\n",
       "      <th>Conference location</th>\n",
       "      <th>Conference topics</th>\n",
       "    </tr>\n",
       "  </thead>\n",
       "  <tbody>\n",
       "    <tr>\n",
       "      <th>0</th>\n",
       "      <td>International Conference on Archaeology ICA in...</td>\n",
       "      <td>March 28-29, 2022</td>\n",
       "      <td>Paris, France</td>\n",
       "      <td>\\nArchaeology\\r\\nArchaeo-chronometry \\r\\nArcha...</td>\n",
       "    </tr>\n",
       "  </tbody>\n",
       "</table>\n",
       "</div>"
      ],
      "text/plain": [
       "                                    Conference title    Conference date  \\\n",
       "0  International Conference on Archaeology ICA in...  March 28-29, 2022   \n",
       "\n",
       "  Conference location                                  Conference topics  \n",
       "0       Paris, France  \\nArchaeology\\r\\nArchaeo-chronometry \\r\\nArcha...  "
      ]
     },
     "execution_count": 10,
     "metadata": {},
     "output_type": "execute_result"
    }
   ],
   "source": [
    "conf_dict = {'Conference title': [conf_title],\n",
    "           'Conference date' : [conf_date],\n",
    "           'Conference location' : [conf_loc],\n",
    "            'Conference topics' : [conf_topics]}\n",
    "pd.DataFrame(conf_dict)"
   ]
  },
  {
   "cell_type": "code",
   "execution_count": 11,
   "id": "3bae60ea-fca0-41cf-b62c-13d117d78abc",
   "metadata": {},
   "outputs": [],
   "source": [
    "def scrape_one_conference(url):\n",
    "    r = requests.get(url, headers = {'User-agent': 'Mozilla/5.0 (Windows NT 10.0; Win64; x64) AppleWebKit/537.36 (KHTML, like Gecko) Chrome/98.0.4758.102 Safari/537.36 rbc6wr@virginia.edu'})\n",
    "    conf_title = conf.find_all('title')[0].string # or .text\n",
    "    conf_date = conf.find_all(\"h2\", \"text-center\")[0].string.split(' in ')[0]\n",
    "    conf_loc = conf.find_all(\"h2\", \"text-center\")[0].string.split(' in ')[1]\n",
    "    conf_topics = conf.find_all(\"div\", \"tab-pane fade\", id='nav-topics')[0].div.text\n",
    "    conf_dict = {'Conference title': [conf_title],\n",
    "           'Conference date' : [conf_date],\n",
    "           'Conference location' : [conf_loc],\n",
    "            'Conference topics' : [conf_topics]}\n",
    "    return pd.DataFrame(conf_dict)\n",
    "    "
   ]
  },
  {
   "cell_type": "code",
   "execution_count": 12,
   "id": "2e0b0712-9bc8-4b34-80c6-21e34da0fab5",
   "metadata": {},
   "outputs": [
    {
     "data": {
      "text/html": [
       "<div>\n",
       "<style scoped>\n",
       "    .dataframe tbody tr th:only-of-type {\n",
       "        vertical-align: middle;\n",
       "    }\n",
       "\n",
       "    .dataframe tbody tr th {\n",
       "        vertical-align: top;\n",
       "    }\n",
       "\n",
       "    .dataframe thead th {\n",
       "        text-align: right;\n",
       "    }\n",
       "</style>\n",
       "<table border=\"1\" class=\"dataframe\">\n",
       "  <thead>\n",
       "    <tr style=\"text-align: right;\">\n",
       "      <th></th>\n",
       "      <th>Conference title</th>\n",
       "      <th>Conference date</th>\n",
       "      <th>Conference location</th>\n",
       "      <th>Conference topics</th>\n",
       "    </tr>\n",
       "  </thead>\n",
       "  <tbody>\n",
       "    <tr>\n",
       "      <th>0</th>\n",
       "      <td>International Conference on Archaeology ICA in...</td>\n",
       "      <td>March 28-29, 2022</td>\n",
       "      <td>Paris, France</td>\n",
       "      <td>\\nArchaeology\\r\\nArchaeo-chronometry \\r\\nArcha...</td>\n",
       "    </tr>\n",
       "  </tbody>\n",
       "</table>\n",
       "</div>"
      ],
      "text/plain": [
       "                                    Conference title    Conference date  \\\n",
       "0  International Conference on Archaeology ICA in...  March 28-29, 2022   \n",
       "\n",
       "  Conference location                                  Conference topics  \n",
       "0       Paris, France  \\nArchaeology\\r\\nArchaeo-chronometry \\r\\nArcha...  "
      ]
     },
     "execution_count": 12,
     "metadata": {},
     "output_type": "execute_result"
    }
   ],
   "source": [
    "scrape_one_conference(url)"
   ]
  },
  {
   "cell_type": "code",
   "execution_count": 13,
   "id": "3dfd904f-1287-4c5b-aef8-1f3ad28d30e9",
   "metadata": {},
   "outputs": [],
   "source": [
    "conf_url = 'https://waset.org/conferences-in-march-2022-in-paris'\n",
    "r = requests.get(conf_url, headers = my_headers)"
   ]
  },
  {
   "cell_type": "code",
   "execution_count": 15,
   "id": "bb0477cc-6062-4f0a-9553-ec873ce7fdeb",
   "metadata": {},
   "outputs": [],
   "source": [
    "conflist = soup(r.text, 'html.parser')\n",
    "my_list = conflist.find_all(\"a\", title=True, class_=False)[2:]"
   ]
  },
  {
   "cell_type": "code",
   "execution_count": 93,
   "id": "931aacff-08b8-49b6-b596-c3f039bdb412",
   "metadata": {},
   "outputs": [],
   "source": [
    "url_list = [m['href'] for m in my_list]"
   ]
  },
  {
   "cell_type": "code",
   "execution_count": 96,
   "id": "1169d24d-afca-4fbb-afa2-60b0352f3c4f",
   "metadata": {},
   "outputs": [
    {
     "name": "stdout",
     "output_type": "stream",
     "text": [
      "https://waset.org/archaeology-conference-in-march-2022-in-paris\n",
      "https://waset.org/aerospace-avionics-conference-in-march-2022-in-paris\n",
      "https://waset.org/aluminum-alloys-and-alloy-design-conference-in-march-2022-in-paris\n",
      "https://waset.org/aircraft-aerodynamics-aerodynamic-development-and-testing-conference-in-march-2022-in-paris\n",
      "https://waset.org/advanced-applications-of-cartography-conference-in-march-2022-in-paris\n",
      "https://waset.org/advanced-aviation-composites-and-technology-conference-in-march-2022-in-paris\n",
      "https://waset.org/aerospace-and-aeronautical-engineering-conference-in-march-2022-in-paris\n",
      "https://waset.org/advances-in-algebraic-informatics-conference-in-march-2022-in-paris\n",
      "https://waset.org/aviation-administration-and-management-conference-in-march-2022-in-paris\n",
      "https://waset.org/applications-of-advanced-porous-materials-conference-in-march-2022-in-paris\n",
      "https://waset.org/acting-and-acting-techniques-conference-in-march-2022-in-paris\n",
      "https://waset.org/advances-in-animal-welfare-science-conference-in-march-2022-in-paris\n",
      "https://waset.org/advanced-biofuels-conference-in-march-2022-in-paris\n",
      "https://waset.org/applied-bionics-and-biomimetics-conference-in-march-2022-in-paris\n",
      "https://waset.org/advanced-bioscience-biotechnology-and-biochemistry-conference-in-march-2022-in-paris\n",
      "https://waset.org/agricultural-biotechnology-biological-and-biosystems-engineering-conference-in-march-2022-in-paris\n",
      "https://waset.org/anisotropy-and-biobased-chemicals-conference-in-march-2022-in-paris\n",
      "https://waset.org/advances-in-biomaterials-engineering-conference-in-march-2022-in-paris\n",
      "https://waset.org/advances-in-biomedical-engineering-and-bioinformatics-conference-in-march-2022-in-paris\n",
      "https://waset.org/advances-in-biomedical-mathematics-and-applications-conference-in-march-2022-in-paris\n",
      "https://waset.org/advances-in-biochemistry-and-molecular-biology-conference-in-march-2022-in-paris\n",
      "https://waset.org/advances-in-cyclostratigraphy-conference-in-march-2022-in-paris\n",
      "https://waset.org/application-of-cloud-computing-in-agriculture-conference-in-march-2022-in-paris\n",
      "https://waset.org/automatic-control-and-closed-loop-control-conference-in-march-2022-in-paris\n",
      "https://waset.org/advances-in-computational-economics-conference-in-march-2022-in-paris\n",
      "https://waset.org/advances-in-computational-linguistics-and-natural-language-resources-conference-in-march-2022-in-paris\n",
      "https://waset.org/applied-climatology-and-meteorology-conference-in-march-2022-in-paris\n",
      "https://waset.org/advances-in-changeable-manufacturing-systems-conference-in-march-2022-in-paris\n",
      "https://waset.org/advances-in-clinical-neurosurgery-conference-in-march-2022-in-paris\n",
      "https://waset.org/anatomic-and-clinical-pathology-conference-in-march-2022-in-paris\n",
      "https://waset.org/applications-of-cognitive-radio-networks-conference-in-march-2022-in-paris\n",
      "https://waset.org/advanced-computing-systems-conference-in-march-2022-in-paris\n",
      "https://waset.org/advances-in-complex-systems-engineering-conference-in-march-2022-in-paris\n",
      "https://waset.org/advances-in-complex-systems-engineering-and-applications-conference-in-march-2022-in-paris\n",
      "https://waset.org/advanced-concrete-technology-conference-in-march-2022-in-paris\n",
      "https://waset.org/autonomic-drugs-and-autonomic-activity-conference-in-march-2022-in-paris\n",
      "https://waset.org/antihypertensive-drugs-and-aldosterone-receptor-antagonists-conference-in-march-2022-in-paris\n",
      "https://waset.org/atmospheric-dynamics-and-deformation-conference-in-march-2022-in-paris\n",
      "https://waset.org/advances-in-diagnostic-imaging-conference-in-march-2022-in-paris\n",
      "https://waset.org/advances-in-distributed-intelligent-control-systems-conference-in-march-2022-in-paris\n",
      "https://waset.org/advances-in-design-manufacturing-and-automation-conference-in-march-2022-in-paris\n",
      "https://waset.org/applied-decision-making-in-civil-engineering-conference-in-march-2022-in-paris\n",
      "https://waset.org/advances-in-design-materials-and-manufacturing-technologies-conference-in-march-2022-in-paris\n",
      "https://waset.org/aerodynamic-design-of-next-generation-aircrafts-conference-in-march-2022-in-paris\n",
      "https://waset.org/aerodynamic-design-of-next-generation-high-speed-aircrafts-conference-in-march-2022-in-paris\n",
      "https://waset.org/architectural-decoration-ornament-and-sculpture-conference-in-march-2022-in-paris\n",
      "https://waset.org/anxiety-disorders-and-sociocultural-factors-conference-in-march-2022-in-paris\n",
      "https://waset.org/applications-of-domain-specific-languages-conference-in-march-2022-in-paris\n",
      "https://waset.org/agricultural-decision-support-systems-technologies-and-applications-conference-in-march-2022-in-paris\n",
      "https://waset.org/aerodynamic-development-and-testing-conference-in-march-2022-in-paris\n",
      "https://waset.org/agribusiness-economics-conference-in-march-2022-in-paris\n",
      "https://waset.org/aircraft-evaluation-and-fleet-planning-conference-in-march-2022-in-paris\n",
      "https://waset.org/aircraft-evaluation-and-selection-conference-in-march-2022-in-paris\n",
      "https://waset.org/application-of-enzyme-biosensors-conference-in-march-2022-in-paris\n",
      "https://waset.org/advances-in-environmental-bioremediation-technologies-conference-in-march-2022-in-paris\n",
      "https://waset.org/applied-evolutionary-economics-conference-in-march-2022-in-paris\n",
      "https://waset.org/aerospace-engineering-flight-vehicles-and-design-conference-in-march-2022-in-paris\n",
      "https://waset.org/applied-and-environmental-geology-conference-in-march-2022-in-paris\n",
      "https://waset.org/infrastructure-improvement-and-agricultural-production-conference-in-march-2022-in-paris\n",
      "https://waset.org/airport-engineering-and-maintenance-conference-in-march-2022-in-paris\n",
      "https://waset.org/agricultural-environment-and-resource-management-conference-in-march-2022-in-paris\n",
      "https://waset.org/applied-exercise-science-conference-in-march-2022-in-paris\n",
      "https://waset.org/advances-in-engineering-software-and-applications-conference-in-march-2022-in-paris\n",
      "https://waset.org/agricultural-environment-and-soil-management-conference-in-march-2022-in-paris\n",
      "https://waset.org/arts-entertainment-and-tourism-conference-in-march-2022-in-paris\n",
      "https://waset.org/airport-engineering-and-transport-planning-conference-in-march-2022-in-paris\n",
      "https://waset.org/aerodynamic-forces-and-aeronautical-engineering-conference-in-march-2022-in-paris\n",
      "https://waset.org/advances-in-farm-automation-technologies-conference-in-march-2022-in-paris\n",
      "https://waset.org/advanced-fluids-engineering-conference-in-march-2022-in-paris\n",
      "https://waset.org/agricultural-and-farm-machinery-conference-in-march-2022-in-paris\n",
      "https://waset.org/aircraft-fleet-planning-and-management-conference-in-march-2022-in-paris\n",
      "https://waset.org/agricultural-and-food-systems-conference-in-march-2022-in-paris\n",
      "https://waset.org/applications-of-fluid-science-and-aerospace-engineering-conference-in-march-2022-in-paris\n",
      "https://waset.org/advanced-fiber-technologies-conference-in-march-2022-in-paris\n",
      "https://waset.org/advances-in-green-fluorine-chemistry-conference-in-march-2022-in-paris\n",
      "https://waset.org/animal-health-management-and-livestock-production-conference-in-march-2022-in-paris\n",
      "https://waset.org/advances-in-hazardous-materials-technologies-conference-in-march-2022-in-paris\n",
      "https://waset.org/advances-in-hybrid-rockets-conference-in-march-2022-in-paris\n",
      "https://waset.org/advantages-of-herbal-supplements-conference-in-march-2022-in-paris\n",
      "https://waset.org/ad-hoc-and-sensor-wireless-networks-conference-in-march-2022-in-paris\n",
      "https://waset.org/alternative-healthcare-and-traditional-physical-therapies-conference-in-march-2022-in-paris\n",
      "https://waset.org/artificial-intelligence-in-aircraft-design-conference-in-march-2022-in-paris\n",
      "https://waset.org/advances-in-industrial-electrochemistry-conference-in-march-2022-in-paris\n",
      "https://waset.org/advances-in-industrial-and-engineering-chemistry-conference-in-march-2022-in-paris\n",
      "https://waset.org/artificial-intelligence-in-food-industry-conference-in-march-2022-in-paris\n",
      "https://waset.org/artificial-intelligence-in-food-science-conference-in-march-2022-in-paris\n",
      "https://waset.org/artificial-intelligence-for-food-science-and-industry-conference-in-march-2022-in-paris\n",
      "https://waset.org/artificial-intelligence-in-food-science-and-technology-conference-in-march-2022-in-paris\n",
      "https://waset.org/automation-and-intelligent-manufacturing-conference-in-march-2022-in-paris\n",
      "https://waset.org/artificial-intelligence-and-neural-networks-conference-in-march-2022-in-paris\n",
      "https://waset.org/accounting-information-systems-collecting-storing-and-processing-conference-in-march-2022-in-paris\n",
      "https://waset.org/agricultural-information-systems-technology-and-management-conference-in-march-2022-in-paris\n",
      "https://waset.org/applications-of-intelligent-transportation-conference-in-march-2022-in-paris\n",
      "https://waset.org/advances-in-linguistic-analysis-conference-in-march-2022-in-paris\n",
      "https://waset.org/advances-in-life-cycle-assessment-conference-in-march-2022-in-paris\n",
      "https://waset.org/administrative-law-and-regulatory-practice-conference-in-march-2022-in-paris\n",
      "https://waset.org/aeroelastic-modeling-conference-in-march-2022-in-paris\n",
      "https://waset.org/aircraft-maintenance-and-airworthiness-engineering-conference-in-march-2022-in-paris\n",
      "https://waset.org/aerospace-mechanical-automotive-and-materials-engineering-conference-in-march-2022-in-paris\n",
      "https://waset.org/agricultural-modernization-and-biodiversity-conference-in-march-2022-in-paris\n"
     ]
    }
   ],
   "source": [
    "conf_df = pd.DataFrame()\n",
    "for u in url_list:\n",
    "    print(u)\n",
    "    one_conf = scrape_one_conference(u)\n",
    "    conf_df = conf_df.append(one_conf)\n",
    "    #conf_df = pd.concat([conf_df,one_conf], join = 'outer', axis = 0) # as an alternative to append"
   ]
  },
  {
   "cell_type": "code",
   "execution_count": 97,
   "id": "355be632-467d-4260-922f-7fdde9046fc7",
   "metadata": {},
   "outputs": [
    {
     "data": {
      "text/html": [
       "<div>\n",
       "<style scoped>\n",
       "    .dataframe tbody tr th:only-of-type {\n",
       "        vertical-align: middle;\n",
       "    }\n",
       "\n",
       "    .dataframe tbody tr th {\n",
       "        vertical-align: top;\n",
       "    }\n",
       "\n",
       "    .dataframe thead th {\n",
       "        text-align: right;\n",
       "    }\n",
       "</style>\n",
       "<table border=\"1\" class=\"dataframe\">\n",
       "  <thead>\n",
       "    <tr style=\"text-align: right;\">\n",
       "      <th></th>\n",
       "      <th>Conference title</th>\n",
       "      <th>Conference date</th>\n",
       "      <th>Conference location</th>\n",
       "      <th>Conference topics</th>\n",
       "    </tr>\n",
       "  </thead>\n",
       "  <tbody>\n",
       "    <tr>\n",
       "      <th>0</th>\n",
       "      <td>International Conference on Archaeology ICA in...</td>\n",
       "      <td>March 28-29, 2022</td>\n",
       "      <td>Paris, France</td>\n",
       "      <td>\\nArchaeology\\r\\nArchaeo-chronometry \\r\\nArcha...</td>\n",
       "    </tr>\n",
       "    <tr>\n",
       "      <th>1</th>\n",
       "      <td>International Conference on Archaeology ICA in...</td>\n",
       "      <td>March 28-29, 2022</td>\n",
       "      <td>Paris, France</td>\n",
       "      <td>\\nArchaeology\\r\\nArchaeo-chronometry \\r\\nArcha...</td>\n",
       "    </tr>\n",
       "    <tr>\n",
       "      <th>2</th>\n",
       "      <td>International Conference on Archaeology ICA in...</td>\n",
       "      <td>March 28-29, 2022</td>\n",
       "      <td>Paris, France</td>\n",
       "      <td>\\nArchaeology\\r\\nArchaeo-chronometry \\r\\nArcha...</td>\n",
       "    </tr>\n",
       "    <tr>\n",
       "      <th>3</th>\n",
       "      <td>International Conference on Archaeology ICA in...</td>\n",
       "      <td>March 28-29, 2022</td>\n",
       "      <td>Paris, France</td>\n",
       "      <td>\\nArchaeology\\r\\nArchaeo-chronometry \\r\\nArcha...</td>\n",
       "    </tr>\n",
       "    <tr>\n",
       "      <th>4</th>\n",
       "      <td>International Conference on Archaeology ICA in...</td>\n",
       "      <td>March 28-29, 2022</td>\n",
       "      <td>Paris, France</td>\n",
       "      <td>\\nArchaeology\\r\\nArchaeo-chronometry \\r\\nArcha...</td>\n",
       "    </tr>\n",
       "    <tr>\n",
       "      <th>...</th>\n",
       "      <td>...</td>\n",
       "      <td>...</td>\n",
       "      <td>...</td>\n",
       "      <td>...</td>\n",
       "    </tr>\n",
       "    <tr>\n",
       "      <th>95</th>\n",
       "      <td>International Conference on Archaeology ICA in...</td>\n",
       "      <td>March 28-29, 2022</td>\n",
       "      <td>Paris, France</td>\n",
       "      <td>\\nArchaeology\\r\\nArchaeo-chronometry \\r\\nArcha...</td>\n",
       "    </tr>\n",
       "    <tr>\n",
       "      <th>96</th>\n",
       "      <td>International Conference on Archaeology ICA in...</td>\n",
       "      <td>March 28-29, 2022</td>\n",
       "      <td>Paris, France</td>\n",
       "      <td>\\nArchaeology\\r\\nArchaeo-chronometry \\r\\nArcha...</td>\n",
       "    </tr>\n",
       "    <tr>\n",
       "      <th>97</th>\n",
       "      <td>International Conference on Archaeology ICA in...</td>\n",
       "      <td>March 28-29, 2022</td>\n",
       "      <td>Paris, France</td>\n",
       "      <td>\\nArchaeology\\r\\nArchaeo-chronometry \\r\\nArcha...</td>\n",
       "    </tr>\n",
       "    <tr>\n",
       "      <th>98</th>\n",
       "      <td>International Conference on Archaeology ICA in...</td>\n",
       "      <td>March 28-29, 2022</td>\n",
       "      <td>Paris, France</td>\n",
       "      <td>\\nArchaeology\\r\\nArchaeo-chronometry \\r\\nArcha...</td>\n",
       "    </tr>\n",
       "    <tr>\n",
       "      <th>99</th>\n",
       "      <td>International Conference on Archaeology ICA in...</td>\n",
       "      <td>March 28-29, 2022</td>\n",
       "      <td>Paris, France</td>\n",
       "      <td>\\nArchaeology\\r\\nArchaeo-chronometry \\r\\nArcha...</td>\n",
       "    </tr>\n",
       "  </tbody>\n",
       "</table>\n",
       "<p>100 rows × 4 columns</p>\n",
       "</div>"
      ],
      "text/plain": [
       "                                     Conference title    Conference date  \\\n",
       "0   International Conference on Archaeology ICA in...  March 28-29, 2022   \n",
       "1   International Conference on Archaeology ICA in...  March 28-29, 2022   \n",
       "2   International Conference on Archaeology ICA in...  March 28-29, 2022   \n",
       "3   International Conference on Archaeology ICA in...  March 28-29, 2022   \n",
       "4   International Conference on Archaeology ICA in...  March 28-29, 2022   \n",
       "..                                                ...                ...   \n",
       "95  International Conference on Archaeology ICA in...  March 28-29, 2022   \n",
       "96  International Conference on Archaeology ICA in...  March 28-29, 2022   \n",
       "97  International Conference on Archaeology ICA in...  March 28-29, 2022   \n",
       "98  International Conference on Archaeology ICA in...  March 28-29, 2022   \n",
       "99  International Conference on Archaeology ICA in...  March 28-29, 2022   \n",
       "\n",
       "   Conference location                                  Conference topics  \n",
       "0        Paris, France  \\nArchaeology\\r\\nArchaeo-chronometry \\r\\nArcha...  \n",
       "1        Paris, France  \\nArchaeology\\r\\nArchaeo-chronometry \\r\\nArcha...  \n",
       "2        Paris, France  \\nArchaeology\\r\\nArchaeo-chronometry \\r\\nArcha...  \n",
       "3        Paris, France  \\nArchaeology\\r\\nArchaeo-chronometry \\r\\nArcha...  \n",
       "4        Paris, France  \\nArchaeology\\r\\nArchaeo-chronometry \\r\\nArcha...  \n",
       "..                 ...                                                ...  \n",
       "95       Paris, France  \\nArchaeology\\r\\nArchaeo-chronometry \\r\\nArcha...  \n",
       "96       Paris, France  \\nArchaeology\\r\\nArchaeo-chronometry \\r\\nArcha...  \n",
       "97       Paris, France  \\nArchaeology\\r\\nArchaeo-chronometry \\r\\nArcha...  \n",
       "98       Paris, France  \\nArchaeology\\r\\nArchaeo-chronometry \\r\\nArcha...  \n",
       "99       Paris, France  \\nArchaeology\\r\\nArchaeo-chronometry \\r\\nArcha...  \n",
       "\n",
       "[100 rows x 4 columns]"
      ]
     },
     "execution_count": 97,
     "metadata": {},
     "output_type": "execute_result"
    }
   ],
   "source": [
    "conf_df.reset_index(drop=True)"
   ]
  },
  {
   "cell_type": "code",
   "execution_count": null,
   "id": "9f6e76ba-ffe9-4412-aae3-21bb135353e5",
   "metadata": {},
   "outputs": [],
   "source": []
  }
 ],
 "metadata": {
  "kernelspec": {
   "display_name": "Python 3 (ipykernel)",
   "language": "python",
   "name": "python3"
  },
  "language_info": {
   "codemirror_mode": {
    "name": "ipython",
    "version": 3
   },
   "file_extension": ".py",
   "mimetype": "text/x-python",
   "name": "python",
   "nbconvert_exporter": "python",
   "pygments_lexer": "ipython3",
   "version": "3.8.5"
  }
 },
 "nbformat": 4,
 "nbformat_minor": 5
}
