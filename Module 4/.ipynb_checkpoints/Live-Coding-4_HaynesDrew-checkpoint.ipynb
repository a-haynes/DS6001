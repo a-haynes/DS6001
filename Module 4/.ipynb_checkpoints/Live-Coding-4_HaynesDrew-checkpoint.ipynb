{
 "cells": [
  {
   "cell_type": "markdown",
   "id": "770ed530-d07a-4198-b7ab-16d8e86e5158",
   "metadata": {},
   "source": [
    "# Live Assignment 4\n",
    "## DS 6001: Practice and Application of Data Science\n",
    "### Drew Haynes (rbc6wr)"
   ]
  },
  {
   "cell_type": "markdown",
   "id": "aacb645b-7468-49cf-b72b-3634df43e019",
   "metadata": {},
   "source": [
    "[Habitat Map](https://www.habitatmap.org/) is a nonprofit organization that sells environmental sensors and provides the web-platform for sharing data from these sensors. Many of the sensors measure air quality -- especially PM ([particulate matter](https://en.wikipedia.org/wiki/Particulates)): microscopic particles of solid or liquid matter suspended in the air. The Wikipedia page on PM states that air with higher levels of PM leads to \"asthma, lung cancer, respiratory diseases, cardiovascular disease, premature delivery, birth defects, low birth weight, and premature death.\"\n",
    "\n",
    "The Habitat Map air sensors are called [AirBeams](https://www.habitatmap.org/airbeam), and they look like palm-sized PacMac ghosts. You can [buy one](https://www.habitatmap.org/airbeam/buy-it-now) for $250 if you want. The sensors have two modes. In fixed mode, the sensor stays in a fixed location uses a stable WiFi connection. In mobile mode you can clip the sensor to your backpack and transfer data using cellular data.\n",
    "\n",
    "<center><img src=\"https://www.habitatmap.org/assets/img/pages/users-guide/AB3Features+Dimensions.jpg?nf-resize=fit&w=1200\" width=400></center>\n",
    "\n",
    "<center> Source: The HabitatMap AirBeam User's Guide <a>https://www.habitatmap.org/airbeam/users-guide</a> </center><br>\n",
    "\n",
    "The goal of the Habitat Map project is to collect data from these sensors in real time and populate an publically-accessable geolocated map with the data on local air quality, called the [AirCasting](http://aircasting.habitatmap.org/map) map. Take a moment and look at the user interface for this map. Users can:\n",
    "\n",
    "* click and drag the map to focus on any particular location\n",
    "* look at mobile sensors or fixed-location sensors\n",
    "* look at PM or other environmental variables such as Ozone, temperature, sound level, and humidity\n",
    "* and specify a time frame during which the data were recorded\n",
    "\n",
    "HabitatMap has an API. The API documentation is rather confusing, but is here: https://github.com/HabitatMap/AirCasting/blob/master/doc/api.md\n",
    "\n",
    "### Our goal\n",
    "\n",
    "To use Python to access this API to download all of the mobile measurements of PM 2.5 in the central Richmond area over the last 12 months, and to save the data as a pandas dataframe. A successful dataframe will contain one row for every measurement, and columns for the session ID, the latitude and longitude of the measurement, and the level of PM 2.5.\n",
    "\n",
    "As is usually the case when working with APIs, the biggest challenge will be reading and understanding the API documentation.\n",
    "\n",
    "### A few points to keep in mind\n",
    "\n",
    "* The mobile API is organized into two endpoints: one for sessions, and one for the measurements that a particular session takes. A single session happens when a user turns on a sensor and starts collecting measurements and ends when the user turns the moible sensor off. One session can have many unique measurements. Because these sensors are mobile, each measurement will have a different geo-location and a different timestamp. We will have to use both endpoints to accomplish our goal.\n",
    "* We will need the latitude and longitudinal ranges that comprise \"central Richmond\". One way to get these coordinates is to find a \"bounding box\" using http://bboxfinder.com/\n",
    "* The time range must be supplied in \"Unix time\", which is the number of seconds that have elapsed since January 1, 1970. We will have to convert our dates and times to Unix time.\n",
    "\n"
   ]
  },
  {
   "cell_type": "code",
   "execution_count": 1,
   "id": "f42115d5-24ab-4967-8154-f74337590682",
   "metadata": {},
   "outputs": [],
   "source": [
    "import numpy as np\n",
    "import pandas as pd\n",
    "import json\n",
    "import requests"
   ]
  }
 ],
 "metadata": {
  "kernelspec": {
   "display_name": "Python 3 (ipykernel)",
   "language": "python",
   "name": "python3"
  },
  "language_info": {
   "codemirror_mode": {
    "name": "ipython",
    "version": 3
   },
   "file_extension": ".py",
   "mimetype": "text/x-python",
   "name": "python",
   "nbconvert_exporter": "python",
   "pygments_lexer": "ipython3",
   "version": "3.8.5"
  }
 },
 "nbformat": 4,
 "nbformat_minor": 5
}
