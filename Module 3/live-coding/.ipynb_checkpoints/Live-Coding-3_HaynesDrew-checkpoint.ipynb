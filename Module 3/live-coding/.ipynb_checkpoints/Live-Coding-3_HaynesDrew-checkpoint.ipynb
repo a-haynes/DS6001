{
 "cells": [
  {
   "cell_type": "markdown",
   "id": "770ed530-d07a-4198-b7ab-16d8e86e5158",
   "metadata": {},
   "source": [
    "# Live Assignment 3\n",
    "## DS 6001: Practice and Application of Data Science\n",
    "### Drew Haynes (rbc6wr)"
   ]
  },
  {
   "cell_type": "markdown",
   "id": "aacb645b-7468-49cf-b72b-3634df43e019",
   "metadata": {},
   "source": [
    "In this live coding session we will access three different datasets which we can access on the internet without having to supply any API keys or other credentials (we'll cover APIs with credentials next week).\n",
    "\n",
    "The goal is to examine the structure of the data, decide what is metadata and what constitutes the content of the dataframe we are trying to build, and to use the various tools available to us to convert the data to a pandas dataframe in our Python environment.\n",
    "\n",
    "We'll work on the following three examples together:\n",
    "\n",
    "Cocktail recipes from The Cocktail DB: http://www.thecocktaildb.com/api/json/v1/1/filter.php?c=Cocktail\n",
    "The published works of J.K. Rowling from OpenLibrary.org: https://openlibrary.org/authors/OL23919A/works.json\n",
    "Data on the pages on Wikipedia that pop up when searching for the term \"Virginia\": https://en.wikipedia.org/w/api.php?action=query&list=search&srsearch=Virginia&format=json&srlimit=500\n",
    "(This search gets the first 500 hits, but there are 210391 results. If time, we will use the sroffset parameter described in the API documentation to get the full list)"
   ]
  },
  {
   "cell_type": "code",
   "execution_count": 6,
   "id": "f42115d5-24ab-4967-8154-f74337590682",
   "metadata": {},
   "outputs": [],
   "source": [
    "import numpy as np\n",
    "import pandas as pd\n",
    "import json\n",
    "import requests"
   ]
  },
  {
   "cell_type": "markdown",
   "id": "808d39f9-61de-44c4-b45c-4dbbfb067bf6",
   "metadata": {},
   "source": [
    "### Example 1"
   ]
  },
  {
   "cell_type": "code",
   "execution_count": 18,
   "id": "9f4b9de1-b4d8-476b-8204-7f166127255b",
   "metadata": {},
   "outputs": [
    {
     "data": {
      "text/plain": [
       "<Response [200]>"
      ]
     },
     "execution_count": 18,
     "metadata": {},
     "output_type": "execute_result"
    }
   ],
   "source": [
    "url = \"https://www.thecocktaildb.com/api/json/v1/1/filter.php?c=Cocktail\"\n",
    "r = requests.get(url, headers = {'User-agent': 'rbc6wr@virginia.edu'})\n",
    "r \n",
    "# 200 In general:\n",
    "# 2xx are \"positive\" transactions\n",
    "# 3xx are redirects\n",
    "# 4xx are client errors (your fault)\n",
    "# 5xx are server errors (their fault)\n"
   ]
  },
  {
   "cell_type": "code",
   "execution_count": 9,
   "id": "d18ef095-cc74-4d95-a3e2-56a17721b0a4",
   "metadata": {},
   "outputs": [
    {
     "data": {
      "text/plain": [
       "'{\"drinks\":[{\"strDrink\":\"155 Belmont\",\"strDrinkThumb\":\"https:\\\\/\\\\/www.thecocktaildb.com\\\\/images\\\\/media\\\\/drink\\\\/yqvvqs1475667388.jpg\",\"idDrink\":\"15346\"},{\"strDrink\":\"57 Chevy with a White License Plate\",\"strDrinkThumb\":\"https:\\\\/\\\\/www.thecocktaildb.com\\\\/images\\\\/media\\\\/drink\\\\/qyyvtu1468878544.jpg\",\"idDrink\":\"14029\"},{\"strDrink\":\"747 Drink\",\"strDrinkThumb\":\"https:\\\\/\\\\/www.thecocktaildb.com\\\\/images\\\\/media\\\\/drink\\\\/i9suxb1582474926.jpg\",\"idDrink\":\"178318\"},{\"strDrink\":\"9 1\\\\/2 Weeks\",\"strDrinkThumb\":\"https:\\\\/\\\\/www.thecocktaildb.com\\\\/images\\\\/media\\\\/drink\\\\/xvwusr1472669302.jpg\",\"idDrink\":\"16108\"},{\"strDrink\":\"A Gilligan\\'s Island\",\"strDrinkThumb\":\"https:\\\\/\\\\/www.thecocktaildb.com\\\\/images\\\\/media\\\\/drink\\\\/wysqut1461867176.jpg\",\"idDrink\":\"16943\"},{\"strDrink\":\"A True Amaretto Sour\",\"strDrinkThumb\":\"https:\\\\/\\\\/www.thecocktaildb.com\\\\/images\\\\/media\\\\/drink\\\\/rptuxy1472669372.jpg\",\"idDrink\":\"17005\"},{\"strDrink\":\"A.D.M. (After Dinner Mint)\",\"strDrinkThumb\":\"https:\\\\/\\\\/www.thecocktaildb.com\\\\/images\\\\/media\\\\/drink\\\\/ruxuvp1472669600.jpg\",\"idDrink\":\"14560\"},{\"strDrink\":\"A1\",\"strDrinkThumb\":\"https:\\\\/\\\\/www.thecocktaildb.com\\\\/images\\\\/media\\\\/drink\\\\/2x8thr1504816928.jpg\",\"idDrink\":\"17222\"},{\"strDrink\":\"Abbey Martini\",\"strDrinkThumb\":\"https:\\\\/\\\\/www.thecocktaildb.com\\\\/images\\\\/media\\\\/drink\\\\/2mcozt1504817403.jpg\",\"idDrink\":\"17223\"},{\"strDrink\":\"Absolut Summertime\",\"strDrinkThumb\":\"https:\\\\/\\\\/www.thecocktaildb.com\\\\/images\\\\/media\\\\/drink\\\\/trpxxs1472669662.jpg\",\"idDrink\":\"14107\"},{\"strDrink\":\"Absolutely Fabulous\",\"strDrinkThumb\":\"https:\\\\/\\\\/www.thecocktaildb.com\\\\/images\\\\/media\\\\/drink\\\\/abcpwr1504817734.jpg\",\"idDrink\":\"17224\"},{\"strDrink\":\"Absolutly Screwed Up\",\"strDrinkThumb\":\"https:\\\\/\\\\/www.thecocktaildb.com\\\\/images\\\\/media\\\\/drink\\\\/yvxrwv1472669728.jpg\",\"idDrink\":\"16134\"},{\"strDrink\":\"Ace\",\"strDrinkThumb\":\"https:\\\\/\\\\/www.thecocktaildb.com\\\\/images\\\\/media\\\\/drink\\\\/l3cd7f1504818306.jpg\",\"idDrink\":\"17225\"},{\"strDrink\":\"Adam & Eve\",\"strDrinkThumb\":\"https:\\\\/\\\\/www.thecocktaildb.com\\\\/images\\\\/media\\\\/drink\\\\/vfeumw1504819077.jpg\",\"idDrink\":\"17226\"},{\"strDrink\":\"Addington\",\"strDrinkThumb\":\"https:\\\\/\\\\/www.thecocktaildb.com\\\\/images\\\\/media\\\\/drink\\\\/ib0b7g1504818925.jpg\",\"idDrink\":\"17227\"},{\"strDrink\":\"Addison\",\"strDrinkThumb\":\"https:\\\\/\\\\/www.thecocktaildb.com\\\\/images\\\\/media\\\\/drink\\\\/yzva7x1504820300.jpg\",\"idDrink\":\"17228\"},{\"strDrink\":\"Addison Special\",\"strDrinkThumb\":\"https:\\\\/\\\\/www.thecocktaildb.com\\\\/images\\\\/media\\\\/drink\\\\/4vo5651493068493.jpg\",\"idDrink\":\"14272\"},{\"strDrink\":\"Adios Amigos Cocktail\",\"strDrinkThumb\":\"https:\\\\/\\\\/www.thecocktaildb.com\\\\/images\\\\/media\\\\/drink\\\\/8nk2mp1504819893.jpg\",\"idDrink\":\"17229\"},{\"strDrink\":\"Afterglow\",\"strDrinkThumb\":\"https:\\\\/\\\\/www.thecocktaildb.com\\\\/images\\\\/media\\\\/drink\\\\/vuquyv1468876052.jpg\",\"idDrink\":\"12560\"},{\"strDrink\":\"Alice Cocktail\",\"strDrinkThumb\":\"https:\\\\/\\\\/www.thecocktaildb.com\\\\/images\\\\/media\\\\/drink\\\\/qyqtpv1468876144.jpg\",\"idDrink\":\"12562\"},{\"strDrink\":\"Amaretto fizz\",\"strDrinkThumb\":\"https:\\\\/\\\\/www.thecocktaildb.com\\\\/images\\\\/media\\\\/drink\\\\/92h3jz1582474310.jpg\",\"idDrink\":\"178321\"},{\"strDrink\":\"Aperol Spritz\",\"strDrinkThumb\":\"https:\\\\/\\\\/www.thecocktaildb.com\\\\/images\\\\/media\\\\/drink\\\\/iloasq1587661955.jpg\",\"idDrink\":\"178325\"},{\"strDrink\":\"Apple Highball\",\"strDrinkThumb\":\"https:\\\\/\\\\/www.thecocktaildb.com\\\\/images\\\\/media\\\\/drink\\\\/66mt9b1619695719.jpg\",\"idDrink\":\"178353\"},{\"strDrink\":\"Apple Karate\",\"strDrinkThumb\":\"https:\\\\/\\\\/www.thecocktaildb.com\\\\/images\\\\/media\\\\/drink\\\\/syusvw1468876634.jpg\",\"idDrink\":\"12564\"},{\"strDrink\":\"Applejack\",\"strDrinkThumb\":\"https:\\\\/\\\\/www.thecocktaildb.com\\\\/images\\\\/media\\\\/drink\\\\/sutyqp1479209062.jpg\",\"idDrink\":\"16311\"},{\"strDrink\":\"Aquamarine\",\"strDrinkThumb\":\"https:\\\\/\\\\/www.thecocktaildb.com\\\\/images\\\\/media\\\\/drink\\\\/zvsre31572902738.jpg\",\"idDrink\":\"178319\"},{\"strDrink\":\"Arizona Stingers\",\"strDrinkThumb\":\"https:\\\\/\\\\/www.thecocktaildb.com\\\\/images\\\\/media\\\\/drink\\\\/y7w0721493068255.jpg\",\"idDrink\":\"14584\"},{\"strDrink\":\"Arizona Twister\",\"strDrinkThumb\":\"https:\\\\/\\\\/www.thecocktaildb.com\\\\/images\\\\/media\\\\/drink\\\\/ido1j01493068134.jpg\",\"idDrink\":\"17074\"},{\"strDrink\":\"Army special\",\"strDrinkThumb\":\"https:\\\\/\\\\/www.thecocktaildb.com\\\\/images\\\\/media\\\\/drink\\\\/55muhh1493068062.jpg\",\"idDrink\":\"17066\"},{\"strDrink\":\"Autumn Garibaldi\",\"strDrinkThumb\":\"https:\\\\/\\\\/www.thecocktaildb.com\\\\/images\\\\/media\\\\/drink\\\\/ne7re71604179012.jpg\",\"idDrink\":\"178337\"},{\"strDrink\":\"Aviation\",\"strDrinkThumb\":\"https:\\\\/\\\\/www.thecocktaildb.com\\\\/images\\\\/media\\\\/drink\\\\/trbplb1606855233.jpg\",\"idDrink\":\"17180\"},{\"strDrink\":\"Bahama Mama\",\"strDrinkThumb\":\"https:\\\\/\\\\/www.thecocktaildb.com\\\\/images\\\\/media\\\\/drink\\\\/tyb4a41515793339.jpg\",\"idDrink\":\"17267\"},{\"strDrink\":\"Banana Cream Pi\",\"strDrinkThumb\":\"https:\\\\/\\\\/www.thecocktaildb.com\\\\/images\\\\/media\\\\/drink\\\\/m5p67n1582474609.jpg\",\"idDrink\":\"178320\"},{\"strDrink\":\"Bee\\'s Knees\",\"strDrinkThumb\":\"https:\\\\/\\\\/www.thecocktaildb.com\\\\/images\\\\/media\\\\/drink\\\\/tx8ne41582475326.jpg\",\"idDrink\":\"178317\"},{\"strDrink\":\"Bijou\",\"strDrinkThumb\":\"https:\\\\/\\\\/www.thecocktaildb.com\\\\/images\\\\/media\\\\/drink\\\\/rysb3r1513706985.jpg\",\"idDrink\":\"17254\"},{\"strDrink\":\"Blue Hurricane\",\"strDrinkThumb\":\"https:\\\\/\\\\/www.thecocktaildb.com\\\\/images\\\\/media\\\\/drink\\\\/nwx02s1515795822.jpg\",\"idDrink\":\"17268\"},{\"strDrink\":\"Blueberry Mojito\",\"strDrinkThumb\":\"https:\\\\/\\\\/www.thecocktaildb.com\\\\/images\\\\/media\\\\/drink\\\\/07iep51598719977.jpg\",\"idDrink\":\"178336\"},{\"strDrink\":\"Bombay Cassis\",\"strDrinkThumb\":\"https:\\\\/\\\\/www.thecocktaildb.com\\\\/images\\\\/media\\\\/drink\\\\/h1e0e51510136907.jpg\",\"idDrink\":\"17242\"},{\"strDrink\":\"Bora Bora\",\"strDrinkThumb\":\"https:\\\\/\\\\/www.thecocktaildb.com\\\\/images\\\\/media\\\\/drink\\\\/xwuqvw1473201811.jpg\",\"idDrink\":\"12572\"},{\"strDrink\":\"Boulevardier\",\"strDrinkThumb\":\"https:\\\\/\\\\/www.thecocktaildb.com\\\\/images\\\\/media\\\\/drink\\\\/km84qi1513705868.jpg\",\"idDrink\":\"17251\"},{\"strDrink\":\"Bounty Hunter\",\"strDrinkThumb\":\"https:\\\\/\\\\/www.thecocktaildb.com\\\\/images\\\\/media\\\\/drink\\\\/t8bgxl1596018175.jpg\",\"idDrink\":\"178331\"},{\"strDrink\":\"Brigadier\",\"strDrinkThumb\":\"https:\\\\/\\\\/www.thecocktaildb.com\\\\/images\\\\/media\\\\/drink\\\\/nl89tf1518947401.jpg\",\"idDrink\":\"17825\"},{\"strDrink\":\"Broadside\",\"strDrinkThumb\":\"https:\\\\/\\\\/www.thecocktaildb.com\\\\/images\\\\/media\\\\/drink\\\\/l2o6xu1582476870.jpg\",\"idDrink\":\"178311\"},{\"strDrink\":\"Brooklyn\",\"strDrinkThumb\":\"https:\\\\/\\\\/www.thecocktaildb.com\\\\/images\\\\/media\\\\/drink\\\\/ojsezf1582477277.jpg\",\"idDrink\":\"178310\"},{\"strDrink\":\"Butterfly Effect\",\"strDrinkThumb\":\"https:\\\\/\\\\/www.thecocktaildb.com\\\\/images\\\\/media\\\\/drink\\\\/ht3hnk1619704289.jpg\",\"idDrink\":\"178356\"},{\"strDrink\":\"Captain Kidd\\'s Punch\",\"strDrinkThumb\":\"https:\\\\/\\\\/www.thecocktaildb.com\\\\/images\\\\/media\\\\/drink\\\\/d83spj1596017390.jpg\",\"idDrink\":\"178329\"},{\"strDrink\":\"Cherry Electric Lemonade\",\"strDrinkThumb\":\"https:\\\\/\\\\/www.thecocktaildb.com\\\\/images\\\\/media\\\\/drink\\\\/tquyyt1451299548.jpg\",\"idDrink\":\"17174\"},{\"strDrink\":\"Cocktail Horse\\\\u2019s Neck\",\"strDrinkThumb\":\"https:\\\\/\\\\/www.thecocktaildb.com\\\\/images\\\\/media\\\\/drink\\\\/4vobt21643844913.jpg\",\"idDrink\":\"178369\"},{\"strDrink\":\"Corn n Oil\",\"strDrinkThumb\":\"https:\\\\/\\\\/www.thecocktaildb.com\\\\/images\\\\/media\\\\/drink\\\\/pk6dwi1592767243.jpg\",\"idDrink\":\"17830\"},{\"strDrink\":\"Corpse Reviver\",\"strDrinkThumb\":\"https:\\\\/\\\\/www.thecocktaildb.com\\\\/images\\\\/media\\\\/drink\\\\/gifgao1513704334.jpg\",\"idDrink\":\"17250\"},{\"strDrink\":\"Cosmopolitan\",\"strDrinkThumb\":\"https:\\\\/\\\\/www.thecocktaildb.com\\\\/images\\\\/media\\\\/drink\\\\/kpsajh1504368362.jpg\",\"idDrink\":\"17196\"},{\"strDrink\":\"Cosmopolitan Martini\",\"strDrinkThumb\":\"https:\\\\/\\\\/www.thecocktaildb.com\\\\/images\\\\/media\\\\/drink\\\\/upxxpq1439907580.jpg\",\"idDrink\":\"14133\"},{\"strDrink\":\"Cream Soda\",\"strDrinkThumb\":\"https:\\\\/\\\\/www.thecocktaildb.com\\\\/images\\\\/media\\\\/drink\\\\/yqstxr1479209367.jpg\",\"idDrink\":\"14608\"},{\"strDrink\":\"Dark Caipirinha\",\"strDrinkThumb\":\"https:\\\\/\\\\/www.thecocktaildb.com\\\\/images\\\\/media\\\\/drink\\\\/uwstrx1472406058.jpg\",\"idDrink\":\"17177\"},{\"strDrink\":\"Death in the Afternoon\",\"strDrinkThumb\":\"https:\\\\/\\\\/www.thecocktaildb.com\\\\/images\\\\/media\\\\/drink\\\\/y7s3rh1598719574.jpg\",\"idDrink\":\"178334\"},{\"strDrink\":\"Dirty Martini\",\"strDrinkThumb\":\"https:\\\\/\\\\/www.thecocktaildb.com\\\\/images\\\\/media\\\\/drink\\\\/vcyvpq1485083300.jpg\",\"idDrink\":\"17181\"},{\"strDrink\":\"Dry Martini\",\"strDrinkThumb\":\"https:\\\\/\\\\/www.thecocktaildb.com\\\\/images\\\\/media\\\\/drink\\\\/6ck9yi1589574317.jpg\",\"idDrink\":\"11005\"},{\"strDrink\":\"Duchamp\\'s Punch\",\"strDrinkThumb\":\"https:\\\\/\\\\/www.thecocktaildb.com\\\\/images\\\\/media\\\\/drink\\\\/g51naw1485084685.jpg\",\"idDrink\":\"17182\"},{\"strDrink\":\"Elderflower Caipirinha\",\"strDrinkThumb\":\"https:\\\\/\\\\/www.thecocktaildb.com\\\\/images\\\\/media\\\\/drink\\\\/dif7a31614006331.jpg\",\"idDrink\":\"178346\"},{\"strDrink\":\"Empell\\\\u00f3n Cocina\\'s Fat-Washed Mezcal\",\"strDrinkThumb\":\"https:\\\\/\\\\/www.thecocktaildb.com\\\\/images\\\\/media\\\\/drink\\\\/osgvxt1513595509.jpg\",\"idDrink\":\"17246\"},{\"strDrink\":\"Espresso Martini\",\"strDrinkThumb\":\"https:\\\\/\\\\/www.thecocktaildb.com\\\\/images\\\\/media\\\\/drink\\\\/n0sx531504372951.jpg\",\"idDrink\":\"17212\"},{\"strDrink\":\"Espresso Rumtini\",\"strDrinkThumb\":\"https:\\\\/\\\\/www.thecocktaildb.com\\\\/images\\\\/media\\\\/drink\\\\/acvf171561574403.jpg\",\"idDrink\":\"178309\"},{\"strDrink\":\"Figgy Thyme\",\"strDrinkThumb\":\"https:\\\\/\\\\/www.thecocktaildb.com\\\\/images\\\\/media\\\\/drink\\\\/pbw4e51606766578.jpg\",\"idDrink\":\"178344\"},{\"strDrink\":\"Flaming Lamborghini\",\"strDrinkThumb\":\"https:\\\\/\\\\/www.thecocktaildb.com\\\\/images\\\\/media\\\\/drink\\\\/yywpss1461866587.jpg\",\"idDrink\":\"16485\"},{\"strDrink\":\"French Martini\",\"strDrinkThumb\":\"https:\\\\/\\\\/www.thecocktaildb.com\\\\/images\\\\/media\\\\/drink\\\\/clth721504373134.jpg\",\"idDrink\":\"17213\"},{\"strDrink\":\"French Negroni\",\"strDrinkThumb\":\"https:\\\\/\\\\/www.thecocktaildb.com\\\\/images\\\\/media\\\\/drink\\\\/x8lhp41513703167.jpg\",\"idDrink\":\"17248\"},{\"strDrink\":\"Fros\\\\u00e9\",\"strDrinkThumb\":\"https:\\\\/\\\\/www.thecocktaildb.com\\\\/images\\\\/media\\\\/drink\\\\/b4cadp1619695347.jpg\",\"idDrink\":\"178352\"},{\"strDrink\":\"Funk and Soul\",\"strDrinkThumb\":\"https:\\\\/\\\\/www.thecocktaildb.com\\\\/images\\\\/media\\\\/drink\\\\/qtv83q1596015790.jpg\",\"idDrink\":\"178328\"},{\"strDrink\":\"Gagliardo\",\"strDrinkThumb\":\"https:\\\\/\\\\/www.thecocktaildb.com\\\\/images\\\\/media\\\\/drink\\\\/lyloe91487602877.jpg\",\"idDrink\":\"12758\"},{\"strDrink\":\"Garibaldi Negroni\",\"strDrinkThumb\":\"https:\\\\/\\\\/www.thecocktaildb.com\\\\/images\\\\/media\\\\/drink\\\\/kb4bjg1604179771.jpg\",\"idDrink\":\"178340\"},{\"strDrink\":\"Gimlet\",\"strDrinkThumb\":\"https:\\\\/\\\\/www.thecocktaildb.com\\\\/images\\\\/media\\\\/drink\\\\/3xgldt1513707271.jpg\",\"idDrink\":\"17255\"},{\"strDrink\":\"Gin and Soda\",\"strDrinkThumb\":\"https:\\\\/\\\\/www.thecocktaildb.com\\\\/images\\\\/media\\\\/drink\\\\/nzlyc81605905755.jpg\",\"idDrink\":\"178342\"},{\"strDrink\":\"Gin Basil Smash\",\"strDrinkThumb\":\"https:\\\\/\\\\/www.thecocktaildb.com\\\\/images\\\\/media\\\\/drink\\\\/jqh2141572807327.jpg\",\"idDrink\":\"178314\"},{\"strDrink\":\"Gin Lemon\",\"strDrinkThumb\":\"https:\\\\/\\\\/www.thecocktaildb.com\\\\/images\\\\/media\\\\/drink\\\\/yhzvk91643821739.jpg\",\"idDrink\":\"178366\"},{\"strDrink\":\"Gin Rickey\",\"strDrinkThumb\":\"https:\\\\/\\\\/www.thecocktaildb.com\\\\/images\\\\/media\\\\/drink\\\\/s00d6f1504883945.jpg\",\"idDrink\":\"17230\"},{\"strDrink\":\"Gin Tonic\",\"strDrinkThumb\":\"https:\\\\/\\\\/www.thecocktaildb.com\\\\/images\\\\/media\\\\/drink\\\\/qcgz0t1643821443.jpg\",\"idDrink\":\"178365\"},{\"strDrink\":\"Greyhound\",\"strDrinkThumb\":\"https:\\\\/\\\\/www.thecocktaildb.com\\\\/images\\\\/media\\\\/drink\\\\/g5upn41513706732.jpg\",\"idDrink\":\"17252\"},{\"strDrink\":\"Honey Bee\",\"strDrinkThumb\":\"https:\\\\/\\\\/www.thecocktaildb.com\\\\/images\\\\/media\\\\/drink\\\\/vu8l7t1582475673.jpg\",\"idDrink\":\"178316\"},{\"strDrink\":\"Hot Toddy\",\"strDrinkThumb\":\"https:\\\\/\\\\/www.thecocktaildb.com\\\\/images\\\\/media\\\\/drink\\\\/ggx0lv1613942306.jpg\",\"idDrink\":\"178345\"},{\"strDrink\":\"Hunter\\'s Moon\",\"strDrinkThumb\":\"https:\\\\/\\\\/www.thecocktaildb.com\\\\/images\\\\/media\\\\/drink\\\\/t0iugg1509556712.jpg\",\"idDrink\":\"17239\"},{\"strDrink\":\"Imperial Cocktail\",\"strDrinkThumb\":\"https:\\\\/\\\\/www.thecocktaildb.com\\\\/images\\\\/media\\\\/drink\\\\/bcsj2e1487603625.jpg\",\"idDrink\":\"12706\"},{\"strDrink\":\"Irish Curdling Cow\",\"strDrinkThumb\":\"https:\\\\/\\\\/www.thecocktaildb.com\\\\/images\\\\/media\\\\/drink\\\\/yrhutv1503563730.jpg\",\"idDrink\":\"16987\"},{\"strDrink\":\"Jitterbug\",\"strDrinkThumb\":\"https:\\\\/\\\\/www.thecocktaildb.com\\\\/images\\\\/media\\\\/drink\\\\/wwqvrq1441245318.jpg\",\"idDrink\":\"16178\"},{\"strDrink\":\"Kiwi Martini\",\"strDrinkThumb\":\"https:\\\\/\\\\/www.thecocktaildb.com\\\\/images\\\\/media\\\\/drink\\\\/bmxmyq1630407098.jpg\",\"idDrink\":\"178359\"},{\"strDrink\":\"Lazy Coconut Paloma\",\"strDrinkThumb\":\"https:\\\\/\\\\/www.thecocktaildb.com\\\\/images\\\\/media\\\\/drink\\\\/rytuex1598719770.jpg\",\"idDrink\":\"178335\"},{\"strDrink\":\"Lemon Drop\",\"strDrinkThumb\":\"https:\\\\/\\\\/www.thecocktaildb.com\\\\/images\\\\/media\\\\/drink\\\\/mtpxgk1504373297.jpg\",\"idDrink\":\"14366\"},{\"strDrink\":\"Lemon Elderflower Spritzer\",\"strDrinkThumb\":\"https:\\\\/\\\\/www.thecocktaildb.com\\\\/images\\\\/media\\\\/drink\\\\/125w0o1630407389.jpg\",\"idDrink\":\"178360\"},{\"strDrink\":\"Malibu Twister\",\"strDrinkThumb\":\"https:\\\\/\\\\/www.thecocktaildb.com\\\\/images\\\\/media\\\\/drink\\\\/2dwae41504885321.jpg\",\"idDrink\":\"15224\"},{\"strDrink\":\"Mango Mojito\",\"strDrinkThumb\":\"https:\\\\/\\\\/www.thecocktaildb.com\\\\/images\\\\/media\\\\/drink\\\\/wfqmgm1630406820.jpg\",\"idDrink\":\"178358\"},{\"strDrink\":\"Manhattan\",\"strDrinkThumb\":\"https:\\\\/\\\\/www.thecocktaildb.com\\\\/images\\\\/media\\\\/drink\\\\/yk70e31606771240.jpg\",\"idDrink\":\"11008\"},{\"strDrink\":\"Martinez 2\",\"strDrinkThumb\":\"https:\\\\/\\\\/www.thecocktaildb.com\\\\/images\\\\/media\\\\/drink\\\\/fs6kiq1513708455.jpg\",\"idDrink\":\"17256\"},{\"strDrink\":\"Martinez Cocktail\",\"strDrinkThumb\":\"https:\\\\/\\\\/www.thecocktaildb.com\\\\/images\\\\/media\\\\/drink\\\\/wwxwvr1439906452.jpg\",\"idDrink\":\"11720\"},{\"strDrink\":\"Martini\",\"strDrinkThumb\":\"https:\\\\/\\\\/www.thecocktaildb.com\\\\/images\\\\/media\\\\/drink\\\\/71t8581504353095.jpg\",\"idDrink\":\"11728\"},{\"strDrink\":\"Mary Pickford\",\"strDrinkThumb\":\"https:\\\\/\\\\/www.thecocktaildb.com\\\\/images\\\\/media\\\\/drink\\\\/f9erqb1504350557.jpg\",\"idDrink\":\"17188\"},{\"strDrink\":\"Miami Vice\",\"strDrinkThumb\":\"https:\\\\/\\\\/www.thecocktaildb.com\\\\/images\\\\/media\\\\/drink\\\\/qvuyqw1441208955.jpg\",\"idDrink\":\"13936\"},{\"strDrink\":\"Michelada\",\"strDrinkThumb\":\"https:\\\\/\\\\/www.thecocktaildb.com\\\\/images\\\\/media\\\\/drink\\\\/u736bd1605907086.jpg\",\"idDrink\":\"178343\"},{\"strDrink\":\"Midnight Mint\",\"strDrinkThumb\":\"https:\\\\/\\\\/www.thecocktaildb.com\\\\/images\\\\/media\\\\/drink\\\\/svuvrq1441208310.jpg\",\"idDrink\":\"14842\"},{\"strDrink\":\"Mojito\",\"strDrinkThumb\":\"https:\\\\/\\\\/www.thecocktaildb.com\\\\/images\\\\/media\\\\/drink\\\\/metwgh1606770327.jpg\",\"idDrink\":\"11000\"},{\"strDrink\":\"Mojito Extra\",\"strDrinkThumb\":\"https:\\\\/\\\\/www.thecocktaildb.com\\\\/images\\\\/media\\\\/drink\\\\/vwxrsw1478251483.jpg\",\"idDrink\":\"15841\"},{\"strDrink\":\"Mountain Bramble\",\"strDrinkThumb\":\"https:\\\\/\\\\/www.thecocktaildb.com\\\\/images\\\\/media\\\\/drink\\\\/stwiva1619704025.jpg\",\"idDrink\":\"178355\"}]}'"
      ]
     },
     "execution_count": 9,
     "metadata": {},
     "output_type": "execute_result"
    }
   ],
   "source": [
    "r.text"
   ]
  },
  {
   "cell_type": "code",
   "execution_count": 15,
   "id": "6c57c0f8-5196-47c6-9996-e53d734f0e89",
   "metadata": {},
   "outputs": [
    {
     "data": {
      "text/plain": [
       "{'strDrink': '155 Belmont',\n",
       " 'strDrinkThumb': 'https://www.thecocktaildb.com/images/media/drink/yqvvqs1475667388.jpg',\n",
       " 'idDrink': '15346'}"
      ]
     },
     "execution_count": 15,
     "metadata": {},
     "output_type": "execute_result"
    }
   ],
   "source": [
    "my_json = json.loads(r.text) #loads, load, dumps, dump - The 's' stands for from a string, alternatively load from a file\n",
    "my_json['drinks'][0]"
   ]
  },
  {
   "cell_type": "code",
   "execution_count": 17,
   "id": "cfcf504f-b6e4-4384-b193-287f956d1b34",
   "metadata": {},
   "outputs": [
    {
     "data": {
      "text/html": [
       "<div>\n",
       "<style scoped>\n",
       "    .dataframe tbody tr th:only-of-type {\n",
       "        vertical-align: middle;\n",
       "    }\n",
       "\n",
       "    .dataframe tbody tr th {\n",
       "        vertical-align: top;\n",
       "    }\n",
       "\n",
       "    .dataframe thead th {\n",
       "        text-align: right;\n",
       "    }\n",
       "</style>\n",
       "<table border=\"1\" class=\"dataframe\">\n",
       "  <thead>\n",
       "    <tr style=\"text-align: right;\">\n",
       "      <th></th>\n",
       "      <th>strDrink</th>\n",
       "      <th>strDrinkThumb</th>\n",
       "      <th>idDrink</th>\n",
       "    </tr>\n",
       "  </thead>\n",
       "  <tbody>\n",
       "    <tr>\n",
       "      <th>0</th>\n",
       "      <td>155 Belmont</td>\n",
       "      <td>https://www.thecocktaildb.com/images/media/dri...</td>\n",
       "      <td>15346</td>\n",
       "    </tr>\n",
       "    <tr>\n",
       "      <th>1</th>\n",
       "      <td>57 Chevy with a White License Plate</td>\n",
       "      <td>https://www.thecocktaildb.com/images/media/dri...</td>\n",
       "      <td>14029</td>\n",
       "    </tr>\n",
       "    <tr>\n",
       "      <th>2</th>\n",
       "      <td>747 Drink</td>\n",
       "      <td>https://www.thecocktaildb.com/images/media/dri...</td>\n",
       "      <td>178318</td>\n",
       "    </tr>\n",
       "    <tr>\n",
       "      <th>3</th>\n",
       "      <td>9 1/2 Weeks</td>\n",
       "      <td>https://www.thecocktaildb.com/images/media/dri...</td>\n",
       "      <td>16108</td>\n",
       "    </tr>\n",
       "    <tr>\n",
       "      <th>4</th>\n",
       "      <td>A Gilligan's Island</td>\n",
       "      <td>https://www.thecocktaildb.com/images/media/dri...</td>\n",
       "      <td>16943</td>\n",
       "    </tr>\n",
       "    <tr>\n",
       "      <th>...</th>\n",
       "      <td>...</td>\n",
       "      <td>...</td>\n",
       "      <td>...</td>\n",
       "    </tr>\n",
       "    <tr>\n",
       "      <th>95</th>\n",
       "      <td>Michelada</td>\n",
       "      <td>https://www.thecocktaildb.com/images/media/dri...</td>\n",
       "      <td>178343</td>\n",
       "    </tr>\n",
       "    <tr>\n",
       "      <th>96</th>\n",
       "      <td>Midnight Mint</td>\n",
       "      <td>https://www.thecocktaildb.com/images/media/dri...</td>\n",
       "      <td>14842</td>\n",
       "    </tr>\n",
       "    <tr>\n",
       "      <th>97</th>\n",
       "      <td>Mojito</td>\n",
       "      <td>https://www.thecocktaildb.com/images/media/dri...</td>\n",
       "      <td>11000</td>\n",
       "    </tr>\n",
       "    <tr>\n",
       "      <th>98</th>\n",
       "      <td>Mojito Extra</td>\n",
       "      <td>https://www.thecocktaildb.com/images/media/dri...</td>\n",
       "      <td>15841</td>\n",
       "    </tr>\n",
       "    <tr>\n",
       "      <th>99</th>\n",
       "      <td>Mountain Bramble</td>\n",
       "      <td>https://www.thecocktaildb.com/images/media/dri...</td>\n",
       "      <td>178355</td>\n",
       "    </tr>\n",
       "  </tbody>\n",
       "</table>\n",
       "<p>100 rows × 3 columns</p>\n",
       "</div>"
      ],
      "text/plain": [
       "                               strDrink  \\\n",
       "0                           155 Belmont   \n",
       "1   57 Chevy with a White License Plate   \n",
       "2                             747 Drink   \n",
       "3                           9 1/2 Weeks   \n",
       "4                   A Gilligan's Island   \n",
       "..                                  ...   \n",
       "95                            Michelada   \n",
       "96                        Midnight Mint   \n",
       "97                               Mojito   \n",
       "98                         Mojito Extra   \n",
       "99                     Mountain Bramble   \n",
       "\n",
       "                                        strDrinkThumb idDrink  \n",
       "0   https://www.thecocktaildb.com/images/media/dri...   15346  \n",
       "1   https://www.thecocktaildb.com/images/media/dri...   14029  \n",
       "2   https://www.thecocktaildb.com/images/media/dri...  178318  \n",
       "3   https://www.thecocktaildb.com/images/media/dri...   16108  \n",
       "4   https://www.thecocktaildb.com/images/media/dri...   16943  \n",
       "..                                                ...     ...  \n",
       "95  https://www.thecocktaildb.com/images/media/dri...  178343  \n",
       "96  https://www.thecocktaildb.com/images/media/dri...   14842  \n",
       "97  https://www.thecocktaildb.com/images/media/dri...   11000  \n",
       "98  https://www.thecocktaildb.com/images/media/dri...   15841  \n",
       "99  https://www.thecocktaildb.com/images/media/dri...  178355  \n",
       "\n",
       "[100 rows x 3 columns]"
      ]
     },
     "execution_count": 17,
     "metadata": {},
     "output_type": "execute_result"
    }
   ],
   "source": [
    "pd.json_normalize(my_json, record_path = ['drinks']) \n",
    "#Alternatively \n",
    "pd.json_normalize(my_json['drinks']) "
   ]
  },
  {
   "cell_type": "markdown",
   "id": "2a3dd6f9-107c-4945-9f26-425a509fa1cd",
   "metadata": {},
   "source": [
    "### Example 2"
   ]
  },
  {
   "cell_type": "code",
   "execution_count": 57,
   "id": "5ffda8fa-9125-4122-949f-3ea0605a0a4e",
   "metadata": {},
   "outputs": [],
   "source": [
    "url = 'https://openlibrary.org/authors/OL23919A/works.json'"
   ]
  },
  {
   "cell_type": "code",
   "execution_count": 58,
   "id": "aa2127f3-7532-4329-b64f-b458c4c6ee08",
   "metadata": {},
   "outputs": [
    {
     "data": {
      "text/plain": [
       "<Response [200]>"
      ]
     },
     "execution_count": 58,
     "metadata": {},
     "output_type": "execute_result"
    }
   ],
   "source": [
    "r = requests.get(url, headers = {'User-agent': 'rbc6wr@virginia.edu'})\n",
    "r "
   ]
  },
  {
   "cell_type": "code",
   "execution_count": 59,
   "id": "950a3d42-b049-41cd-9b4c-0b5f70f41d91",
   "metadata": {},
   "outputs": [
    {
     "data": {
      "text/plain": [
       "{'links': {'self': '/authors/OL23919A/works.json',\n",
       "  'author': '/authors/OL23919A',\n",
       "  'next': '/authors/OL23919A/works.json?offset=50'},\n",
       " 'size': 296}"
      ]
     },
     "execution_count": 59,
     "metadata": {},
     "output_type": "execute_result"
    }
   ],
   "source": [
    "my_json = json.loads(r.text) \n",
    "dict(list(my_json.items())[:2])"
   ]
  },
  {
   "cell_type": "code",
   "execution_count": 60,
   "id": "8fd4af0a-40e3-46f3-a732-7b9af812fde6",
   "metadata": {},
   "outputs": [
    {
     "data": {
      "text/html": [
       "<div>\n",
       "<style scoped>\n",
       "    .dataframe tbody tr th:only-of-type {\n",
       "        vertical-align: middle;\n",
       "    }\n",
       "\n",
       "    .dataframe tbody tr th {\n",
       "        vertical-align: top;\n",
       "    }\n",
       "\n",
       "    .dataframe thead th {\n",
       "        text-align: right;\n",
       "    }\n",
       "</style>\n",
       "<table border=\"1\" class=\"dataframe\">\n",
       "  <thead>\n",
       "    <tr style=\"text-align: right;\">\n",
       "      <th></th>\n",
       "      <th>description</th>\n",
       "      <th>title</th>\n",
       "      <th>covers</th>\n",
       "      <th>subject_places</th>\n",
       "      <th>subjects</th>\n",
       "      <th>subject_people</th>\n",
       "      <th>key</th>\n",
       "      <th>authors</th>\n",
       "      <th>subject_times</th>\n",
       "      <th>latest_revision</th>\n",
       "      <th>...</th>\n",
       "      <th>type.key</th>\n",
       "      <th>created.type</th>\n",
       "      <th>created.value</th>\n",
       "      <th>last_modified.type</th>\n",
       "      <th>last_modified.value</th>\n",
       "      <th>subtitle</th>\n",
       "      <th>description.type</th>\n",
       "      <th>description.value</th>\n",
       "      <th>links</th>\n",
       "      <th>excerpts</th>\n",
       "    </tr>\n",
       "  </thead>\n",
       "  <tbody>\n",
       "    <tr>\n",
       "      <th>0</th>\n",
       "      <td>The Eighth Story. Nineteen Years Later. Based ...</td>\n",
       "      <td>Harry Potter and the Cursed Child</td>\n",
       "      <td>[8763851, 9326661, 10551120]</td>\n",
       "      <td>[London]</td>\n",
       "      <td>[Drama, Fantasy, Magic, Juvenile Drama, Good a...</td>\n",
       "      <td>[Harry Potter, Hermine Granger, Ron Weasly]</td>\n",
       "      <td>/works/OL17360811W</td>\n",
       "      <td>[{'type': {'key': '/type/author_role'}, 'autho...</td>\n",
       "      <td>[1996]</td>\n",
       "      <td>26</td>\n",
       "      <td>...</td>\n",
       "      <td>/type/work</td>\n",
       "      <td>/type/datetime</td>\n",
       "      <td>2016-08-11T18:54:46.688344</td>\n",
       "      <td>/type/datetime</td>\n",
       "      <td>2022-01-20T23:00:57.123004</td>\n",
       "      <td>NaN</td>\n",
       "      <td>NaN</td>\n",
       "      <td>NaN</td>\n",
       "      <td>NaN</td>\n",
       "      <td>NaN</td>\n",
       "    </tr>\n",
       "    <tr>\n",
       "      <th>1</th>\n",
       "      <td>NaN</td>\n",
       "      <td>Garri Potter I Prokliatoe Ditia</td>\n",
       "      <td>NaN</td>\n",
       "      <td>NaN</td>\n",
       "      <td>NaN</td>\n",
       "      <td>NaN</td>\n",
       "      <td>/works/OL25352276W</td>\n",
       "      <td>[{'type': {'key': '/type/author_role'}, 'autho...</td>\n",
       "      <td>NaN</td>\n",
       "      <td>3</td>\n",
       "      <td>...</td>\n",
       "      <td>/type/work</td>\n",
       "      <td>/type/datetime</td>\n",
       "      <td>2021-09-29T00:46:55.304886</td>\n",
       "      <td>/type/datetime</td>\n",
       "      <td>2022-01-20T23:00:57.123004</td>\n",
       "      <td>NaN</td>\n",
       "      <td>NaN</td>\n",
       "      <td>NaN</td>\n",
       "      <td>NaN</td>\n",
       "      <td>NaN</td>\n",
       "    </tr>\n",
       "    <tr>\n",
       "      <th>2</th>\n",
       "      <td>NaN</td>\n",
       "      <td>Harry Potter et l'Enfant Maudit</td>\n",
       "      <td>[12023661]</td>\n",
       "      <td>NaN</td>\n",
       "      <td>NaN</td>\n",
       "      <td>NaN</td>\n",
       "      <td>/works/OL25434568W</td>\n",
       "      <td>[{'type': {'key': '/type/author_role'}, 'autho...</td>\n",
       "      <td>NaN</td>\n",
       "      <td>3</td>\n",
       "      <td>...</td>\n",
       "      <td>/type/work</td>\n",
       "      <td>/type/datetime</td>\n",
       "      <td>2021-09-30T07:26:12.434275</td>\n",
       "      <td>/type/datetime</td>\n",
       "      <td>2022-01-20T23:00:57.123004</td>\n",
       "      <td>NaN</td>\n",
       "      <td>NaN</td>\n",
       "      <td>NaN</td>\n",
       "      <td>NaN</td>\n",
       "      <td>NaN</td>\n",
       "    </tr>\n",
       "  </tbody>\n",
       "</table>\n",
       "<p>3 rows × 21 columns</p>\n",
       "</div>"
      ],
      "text/plain": [
       "                                         description  \\\n",
       "0  The Eighth Story. Nineteen Years Later. Based ...   \n",
       "1                                                NaN   \n",
       "2                                                NaN   \n",
       "\n",
       "                               title                        covers  \\\n",
       "0  Harry Potter and the Cursed Child  [8763851, 9326661, 10551120]   \n",
       "1    Garri Potter I Prokliatoe Ditia                           NaN   \n",
       "2    Harry Potter et l'Enfant Maudit                    [12023661]   \n",
       "\n",
       "  subject_places                                           subjects  \\\n",
       "0       [London]  [Drama, Fantasy, Magic, Juvenile Drama, Good a...   \n",
       "1            NaN                                                NaN   \n",
       "2            NaN                                                NaN   \n",
       "\n",
       "                                subject_people                 key  \\\n",
       "0  [Harry Potter, Hermine Granger, Ron Weasly]  /works/OL17360811W   \n",
       "1                                          NaN  /works/OL25352276W   \n",
       "2                                          NaN  /works/OL25434568W   \n",
       "\n",
       "                                             authors subject_times  \\\n",
       "0  [{'type': {'key': '/type/author_role'}, 'autho...        [1996]   \n",
       "1  [{'type': {'key': '/type/author_role'}, 'autho...           NaN   \n",
       "2  [{'type': {'key': '/type/author_role'}, 'autho...           NaN   \n",
       "\n",
       "   latest_revision  ...    type.key    created.type  \\\n",
       "0               26  ...  /type/work  /type/datetime   \n",
       "1                3  ...  /type/work  /type/datetime   \n",
       "2                3  ...  /type/work  /type/datetime   \n",
       "\n",
       "                created.value last_modified.type         last_modified.value  \\\n",
       "0  2016-08-11T18:54:46.688344     /type/datetime  2022-01-20T23:00:57.123004   \n",
       "1  2021-09-29T00:46:55.304886     /type/datetime  2022-01-20T23:00:57.123004   \n",
       "2  2021-09-30T07:26:12.434275     /type/datetime  2022-01-20T23:00:57.123004   \n",
       "\n",
       "  subtitle description.type description.value links excerpts  \n",
       "0      NaN              NaN               NaN   NaN      NaN  \n",
       "1      NaN              NaN               NaN   NaN      NaN  \n",
       "2      NaN              NaN               NaN   NaN      NaN  \n",
       "\n",
       "[3 rows x 21 columns]"
      ]
     },
     "execution_count": 60,
     "metadata": {},
     "output_type": "execute_result"
    }
   ],
   "source": [
    "pd.json_normalize(my_json, record_path = ['entries']).head(3) "
   ]
  },
  {
   "cell_type": "code",
   "execution_count": 61,
   "id": "4a84a8e0-d256-4c2d-ab0d-68a99aaf8a82",
   "metadata": {},
   "outputs": [
    {
     "data": {
      "text/plain": [
       "'/authors/OL5231739A'"
      ]
     },
     "execution_count": 61,
     "metadata": {},
     "output_type": "execute_result"
    }
   ],
   "source": [
    "# Only getting the first author\n",
    "my_json['entries'][0]['authors'][0]['author']['key']"
   ]
  },
  {
   "cell_type": "code",
   "execution_count": 62,
   "id": "552cbc1b-4ae4-4bf0-a7a0-5cd7ca05ae3c",
   "metadata": {},
   "outputs": [
    {
     "data": {
      "text/plain": [
       "[0, 3, 8, 15, 24]"
      ]
     },
     "execution_count": 62,
     "metadata": {},
     "output_type": "execute_result"
    }
   ],
   "source": [
    "# list comprehension\n",
    "x = [1,2,3,4,5]\n",
    "[j**2 - 1 for j in x] # j is a generic element of the list 'x'"
   ]
  },
  {
   "cell_type": "code",
   "execution_count": 67,
   "id": "64b64cfd-027a-4ae2-bd9f-43b9a19dfd02",
   "metadata": {},
   "outputs": [
    {
     "data": {
      "text/plain": [
       "['/authors/OL5231739A',\n",
       " '/authors/OL5231739A',\n",
       " '/authors/OL23919A',\n",
       " '/authors/OL23919A',\n",
       " '/authors/OL23919A',\n",
       " '/authors/OL23919A',\n",
       " '/authors/OL23919A',\n",
       " '/authors/OL23919A',\n",
       " '/authors/OL23919A',\n",
       " '/authors/OL23919A']"
      ]
     },
     "execution_count": 67,
     "metadata": {},
     "output_type": "execute_result"
    }
   ],
   "source": [
    "[b['authors'][0]['author']['key'] for b in my_json['entries']][:10]"
   ]
  },
  {
   "cell_type": "markdown",
   "id": "43d5c78f-5ab1-46b3-a4d9-1ba6963ac3ab",
   "metadata": {},
   "source": [
    "### Example 3"
   ]
  },
  {
   "cell_type": "code",
   "execution_count": 46,
   "id": "a30ebb84-120a-4c47-8dd0-49c6e342b6ba",
   "metadata": {},
   "outputs": [],
   "source": [
    "url = 'https://en.wikipedia.org/w/api.php?action=query&list=search&srsearch=Virginia&format=json&srlimit=500'"
   ]
  },
  {
   "cell_type": "code",
   "execution_count": 47,
   "id": "7365d964-4286-45bb-82a3-59ebe7d2bdf4",
   "metadata": {},
   "outputs": [
    {
     "data": {
      "text/plain": [
       "<Response [200]>"
      ]
     },
     "execution_count": 47,
     "metadata": {},
     "output_type": "execute_result"
    }
   ],
   "source": [
    "r = requests.get(url, headers = {'User-agent': 'rbc6wr@virginia.edu'})\n",
    "r "
   ]
  },
  {
   "cell_type": "code",
   "execution_count": 52,
   "id": "e11e23a9-a62f-4119-85a3-508ce383e387",
   "metadata": {},
   "outputs": [
    {
     "data": {
      "text/plain": [
       "{'batchcomplete': '', 'continue': {'sroffset': 500, 'continue': '-||'}}"
      ]
     },
     "execution_count": 52,
     "metadata": {},
     "output_type": "execute_result"
    }
   ],
   "source": [
    "my_json = json.loads(r.text) \n",
    "dict(list(my_json.items())[:2])"
   ]
  },
  {
   "cell_type": "code",
   "execution_count": 53,
   "id": "0c7ce157-f0fc-4ae1-936d-dc145f07ab51",
   "metadata": {},
   "outputs": [
    {
     "data": {
      "text/html": [
       "<div>\n",
       "<style scoped>\n",
       "    .dataframe tbody tr th:only-of-type {\n",
       "        vertical-align: middle;\n",
       "    }\n",
       "\n",
       "    .dataframe tbody tr th {\n",
       "        vertical-align: top;\n",
       "    }\n",
       "\n",
       "    .dataframe thead th {\n",
       "        text-align: right;\n",
       "    }\n",
       "</style>\n",
       "<table border=\"1\" class=\"dataframe\">\n",
       "  <thead>\n",
       "    <tr style=\"text-align: right;\">\n",
       "      <th></th>\n",
       "      <th>ns</th>\n",
       "      <th>title</th>\n",
       "      <th>pageid</th>\n",
       "      <th>size</th>\n",
       "      <th>wordcount</th>\n",
       "      <th>snippet</th>\n",
       "      <th>timestamp</th>\n",
       "    </tr>\n",
       "  </thead>\n",
       "  <tbody>\n",
       "    <tr>\n",
       "      <th>0</th>\n",
       "      <td>0</td>\n",
       "      <td>Virginia</td>\n",
       "      <td>32432</td>\n",
       "      <td>287333</td>\n",
       "      <td>24894</td>\n",
       "      <td>&lt;span class=\"searchmatch\"&gt;Virginia&lt;/span&gt; (/və...</td>\n",
       "      <td>2022-02-08T14:38:38Z</td>\n",
       "    </tr>\n",
       "    <tr>\n",
       "      <th>1</th>\n",
       "      <td>0</td>\n",
       "      <td>Virginia Beach, Virginia</td>\n",
       "      <td>91239</td>\n",
       "      <td>106993</td>\n",
       "      <td>9468</td>\n",
       "      <td>&lt;span class=\"searchmatch\"&gt;Virginia&lt;/span&gt; Beac...</td>\n",
       "      <td>2022-01-30T18:28:40Z</td>\n",
       "    </tr>\n",
       "    <tr>\n",
       "      <th>2</th>\n",
       "      <td>0</td>\n",
       "      <td>West Virginia</td>\n",
       "      <td>32905</td>\n",
       "      <td>183397</td>\n",
       "      <td>17295</td>\n",
       "      <td>West &lt;span class=\"searchmatch\"&gt;Virginia&lt;/span&gt;...</td>\n",
       "      <td>2022-02-07T15:47:00Z</td>\n",
       "    </tr>\n",
       "  </tbody>\n",
       "</table>\n",
       "</div>"
      ],
      "text/plain": [
       "   ns                     title  pageid    size  wordcount  \\\n",
       "0   0                  Virginia   32432  287333      24894   \n",
       "1   0  Virginia Beach, Virginia   91239  106993       9468   \n",
       "2   0             West Virginia   32905  183397      17295   \n",
       "\n",
       "                                             snippet             timestamp  \n",
       "0  <span class=\"searchmatch\">Virginia</span> (/və...  2022-02-08T14:38:38Z  \n",
       "1  <span class=\"searchmatch\">Virginia</span> Beac...  2022-01-30T18:28:40Z  \n",
       "2  West <span class=\"searchmatch\">Virginia</span>...  2022-02-07T15:47:00Z  "
      ]
     },
     "execution_count": 53,
     "metadata": {},
     "output_type": "execute_result"
    }
   ],
   "source": [
    "pd.json_normalize(my_json, record_path = ['query','search']).head(3) "
   ]
  },
  {
   "cell_type": "code",
   "execution_count": 69,
   "id": "b3bf3e26-dc0e-4e13-8ae6-eccf77e62089",
   "metadata": {},
   "outputs": [],
   "source": [
    "#srlimit = Number of elements\n",
    "#sroffset = What rank to start at"
   ]
  },
  {
   "cell_type": "code",
   "execution_count": null,
   "id": "41253080-e883-46ff-b321-6c69c4ecbfa0",
   "metadata": {},
   "outputs": [],
   "source": []
  }
 ],
 "metadata": {
  "kernelspec": {
   "display_name": "Python 3 (ipykernel)",
   "language": "python",
   "name": "python3"
  },
  "language_info": {
   "codemirror_mode": {
    "name": "ipython",
    "version": 3
   },
   "file_extension": ".py",
   "mimetype": "text/x-python",
   "name": "python",
   "nbconvert_exporter": "python",
   "pygments_lexer": "ipython3",
   "version": "3.8.5"
  }
 },
 "nbformat": 4,
 "nbformat_minor": 5
}
